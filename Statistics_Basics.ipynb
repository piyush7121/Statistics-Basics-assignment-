{
  "nbformat": 4,
  "nbformat_minor": 0,
  "metadata": {
    "colab": {
      "provenance": []
    },
    "kernelspec": {
      "name": "python3",
      "display_name": "Python 3"
    },
    "language_info": {
      "name": "python"
    }
  },
  "cells": [
    {
      "cell_type": "markdown",
      "source": [
        "What is the difference between descriptive statistics and inferential\n",
        "statistics? Explain with examples."
      ],
      "metadata": {
        "id": "Nw6Pr2uCryD0"
      }
    },
    {
      "cell_type": "markdown",
      "source": [
        "Descriptive Statistics\n",
        "\n",
        "Definition: Descriptive statistics involves methods for summarizing, organizing, and presenting data in a meaningful way.\n",
        "\n",
        "Purpose: To describe the basic features of a dataset.\n",
        "\n",
        "Scope: Applies only to the data you have (the sample or population being studied).\n",
        "\n",
        "Common Tools:\n",
        "\n",
        "Measures of Central Tendency: Mean, Median, Mode\n",
        "\n",
        "Measures of Dispersion: Range, Variance, Standard Deviation\n",
        "\n",
        "Graphs: Bar charts, Histograms, Pie charts\n",
        "\n",
        "Example:\n",
        "A teacher records the math test scores of 50 students and calculates:\n",
        "\n",
        "Average (mean) score = 75\n",
        "\n",
        "Highest score = 98, Lowest score = 42\n",
        "\n",
        "Standard deviation = 10\n",
        "Inferential Statistics\n",
        "\n",
        "Definition: Inferential statistics involves using a sample of data to make generalizations or predictions about a larger population.\n",
        "\n",
        "Purpose: To draw conclusions, test hypotheses, and make predictions.\n",
        "\n",
        "Scope: Goes beyond the available data to infer about the population.\n",
        "\n",
        "Common Tools:\n",
        "\n",
        "Hypothesis testing (e.g., t-tests, chi-square tests)\n",
        "\n",
        "Confidence intervals\n",
        "\n",
        "Regression analysis\n",
        "\n",
        "Correlation coefficients\n",
        "\n",
        "Example:\n",
        "A researcher surveys 200 people to find out if most citizens support a new law.\n",
        "\n",
        "65% of the sample support the law.\n",
        "Using inferential statistics, the researcher estimates that about 65% of the entire population supports the law, with a margin of error."
      ],
      "metadata": {
        "id": "b-ZJFO0wr3WR"
      }
    },
    {
      "cell_type": "markdown",
      "source": [
        "2. What is sampling in statistics? Explain the differences between random\n",
        "and stratified sampling.\n"
      ],
      "metadata": {
        "id": "yq8JZRf3tB11"
      }
    },
    {
      "cell_type": "markdown",
      "source": [
        "Sampling is a statistical method of selecting a subset (sample) from a larger group (population) to analyze and draw conclusions about the entire population.\n",
        "Since studying an entire population is often time-consuming, expensive, or impractical, sampling allows researchers to gather insights efficiently.\n",
        "\n",
        "Random sampling and stratified sampling are both techniques used to select samples from a population, but they differ in approach and purpose. In random sampling, every individual in the population has an equal chance of being selected, and the selection is made purely by chance, without considering any subgroups. This method is simple and unbiased but may not accurately represent specific subgroups within a diverse population. On the other hand, stratified sampling involves dividing the population into distinct subgroups or strata (such as age, gender, or income level), and then randomly selecting samples from each stratum. This ensures that each subgroup is proportionally represented in the final sample, making it more accurate and reflective of the population’s diversity. While random sampling is easier to implement, stratified sampling is more effective when the population is heterogeneous."
      ],
      "metadata": {
        "id": "QAX4Atx3tS2Y"
      }
    },
    {
      "cell_type": "markdown",
      "source": [
        "3. Define mean, median, and mode. Explain why these measures of central\n",
        "tendency are important."
      ],
      "metadata": {
        "id": "TKZF0PGIt2vi"
      }
    },
    {
      "cell_type": "markdown",
      "source": [
        "Mean:\n",
        "The mean (or average) is the sum of all the values in a dataset divided by the number of values.\n",
        "\n",
        "Mean\n",
        "=\n",
        "Sum of all values\n",
        "Number of values\n",
        "Mean=\n",
        "Number of values\n",
        "Sum of all values\n",
        "\t​\n",
        "\n",
        "\n",
        "\n",
        "Example: For the values 4, 6, and 10:\n",
        "Mean = (4 + 6 + 10) ÷ 3 = 6.67\n",
        "\n",
        "Median:\n",
        "The median is the middle value of an ordered dataset. If the number of values is even, the median is the average of the two middle numbers.\n",
        "\n",
        "Example: For the values 3, 5, 8: Median = 5\n",
        "For 3, 5, 8, 10: Median = (5 + 8)/2 = 6.5\n",
        "\n",
        "Mode:\n",
        "The mode is the value that appears most frequently in a dataset. A dataset can have no mode, one mode, or multiple modes.\n",
        "\n",
        "Example: For the values 2, 4, 4, 6, 7: Mode = 4\n",
        "\n",
        "Importance of Measures of Central Tendency\n",
        "\n",
        "These measures help summarize a large dataset with a single value that represents the center or typical value of the data.\n",
        "\n",
        "They are essential in data analysis, decision-making, and comparisons.\n",
        "\n",
        "Mean is useful for numerical data and gives a general idea of the average performance or value.\n",
        "\n",
        "Median is especially helpful when the data has extreme values (outliers), as it is not affected by them.\n",
        "\n",
        "Mode is useful in identifying the most common or popular item in a dataset, especially in categorical data."
      ],
      "metadata": {
        "id": "aY-es9gyuAUK"
      }
    },
    {
      "cell_type": "markdown",
      "source": [
        "4: Explain skewness and kurtosis. What does a positive skew imply about the\n",
        "data?\n"
      ],
      "metadata": {
        "id": "ps-BdGwquZls"
      }
    },
    {
      "cell_type": "markdown",
      "source": [
        "Skewness and kurtosis are two ways to describe the shape of a data distribution. Skewness shows whether the data is spread out more on one side than the other. If the data has a positive skew, it means the right side or tail is longer than the left, and most of the values are on the lower side. This usually means there are a few very large values pulling the average up. In a positively skewed distribution, the mean is higher than the median. Kurtosis, on the other hand, tells us how tall and sharp the peak of the distribution is, and how heavy or light the tails are. High kurtosis means the data has more values in the tails, which can mean more outliers. A positive skew in the data shows that there are some very high values that make the distribution uneven.\n"
      ],
      "metadata": {
        "id": "kOEKgez8um2N"
      }
    },
    {
      "cell_type": "markdown",
      "source": [
        "5. : Implement a Python program to compute the mean, median, and mode of\n",
        "a given list of numbers.\n",
        "numbers = [12, 15, 12, 18, 19, 12, 20, 22, 19, 19, 24, 24, 24, 26, 28]"
      ],
      "metadata": {
        "id": "wyJv3jAavUfq"
      }
    },
    {
      "cell_type": "code",
      "source": [
        "from statistics import mean, median, mode\n",
        "\n",
        "numbers = [12, 15, 12, 18, 19, 12, 20, 22, 19, 19, 24, 24, 24, 26, 28]\n",
        "\n",
        "# Calculate mean\n",
        "mean_value = mean(numbers)\n",
        "\n",
        "# Calculate median\n",
        "median_value = median(numbers)\n",
        "\n",
        "# Calculate mode\n",
        "mode_value = mode(numbers)\n",
        "\n",
        "print(f\"Mean: {mean_value}\")\n",
        "print(f\"Median: {median_value}\")\n",
        "print(f\"Mode: {mode_value}\")\n"
      ],
      "metadata": {
        "colab": {
          "base_uri": "https://localhost:8080/"
        },
        "id": "vmqsdd1FvuMv",
        "outputId": "5e7d49f3-72c4-45f1-fb6e-9b9931003a76"
      },
      "execution_count": 1,
      "outputs": [
        {
          "output_type": "stream",
          "name": "stdout",
          "text": [
            "Mean: 19.6\n",
            "Median: 19\n",
            "Mode: 12\n"
          ]
        }
      ]
    },
    {
      "cell_type": "markdown",
      "source": [
        "6. Compute the covariance and correlation coefficient between the following\n",
        "two datasets provided as lists in Python:\n",
        "list_x = [10, 20, 30, 40, 50]\n",
        "list_y = [15, 25, 35, 45, 60]"
      ],
      "metadata": {
        "id": "I5N36fCewAZ1"
      }
    },
    {
      "cell_type": "code",
      "source": [
        "import numpy as np\n",
        "\n",
        "list_x = [10, 20, 30, 40, 50]\n",
        "list_y = [15, 25, 35, 45, 60]\n",
        "\n",
        "# Calculate covariance matrix\n",
        "cov_matrix = np.cov(list_x, list_y)\n",
        "covariance = cov_matrix[0, 1]\n",
        "\n",
        "# Calculate correlation coefficient matrix\n",
        "corr_matrix = np.corrcoef(list_x, list_y)\n",
        "correlation = corr_matrix[0, 1]\n",
        "\n",
        "print(f\"Covariance: {covariance}\")\n",
        "print(f\"Correlation Coefficient: {correlation}\")\n"
      ],
      "metadata": {
        "colab": {
          "base_uri": "https://localhost:8080/"
        },
        "id": "XeReXLgiwcKF",
        "outputId": "bd6e5f72-e0ec-4a5f-ea38-30cbe71b8987"
      },
      "execution_count": 2,
      "outputs": [
        {
          "output_type": "stream",
          "name": "stdout",
          "text": [
            "Covariance: 275.0\n",
            "Correlation Coefficient: 0.995893206467704\n"
          ]
        }
      ]
    },
    {
      "cell_type": "markdown",
      "source": [
        "7: Write a Python script to draw a boxplot for the following numeric list and\n",
        "identify its outliers. Explain the result:\n",
        "data = [12, 14, 14, 15, 18, 19, 19, 21, 22, 22, 23, 23, 24, 26, 29, 35]"
      ],
      "metadata": {
        "id": "jPpQk3aGwgkh"
      }
    },
    {
      "cell_type": "code",
      "source": [
        "import matplotlib.pyplot as plt\n",
        "\n",
        "data = [12, 14, 14, 15, 18, 19, 19, 21, 22, 22, 23, 23, 24, 26, 29, 35]\n",
        "\n",
        "plt.boxplot(data)\n",
        "plt.title(\"Boxplot of Data\")\n",
        "plt.ylabel(\"Values\")\n",
        "plt.show()\n"
      ],
      "metadata": {
        "colab": {
          "base_uri": "https://localhost:8080/",
          "height": 452
        },
        "id": "20klz1aMwo_D",
        "outputId": "7dc6de69-189b-4b69-b652-e71c55d48b58"
      },
      "execution_count": 3,
      "outputs": [
        {
          "output_type": "display_data",
          "data": {
            "text/plain": [
              "<Figure size 640x480 with 1 Axes>"
            ],
            "image/png": "[encoded data removed]"
          },
          "metadata": {}
        }
      ]
    },
    {
      "cell_type": "markdown",
      "source": [
        "8.You are working as a data analyst in an e-commerce company. The\n",
        "marketing team wants to know if there is a relationship between advertising spend and\n",
        "daily sales.\n",
        "● Explain how you would use covariance and correlation to explore this\n",
        "relationship.\n",
        "● Write Python code to compute the correlation between the two lists:\n",
        "advertising_spend = [200, 250, 300, 400, 500]\n",
        "daily_sales = [2200, 2450, 2750, 3200, 4000]"
      ],
      "metadata": {
        "id": "ZllF568Cw0Fm"
      }
    },
    {
      "cell_type": "markdown",
      "source": [
        "Covariance tells us the direction of the relationship between two variables.\n",
        "\n",
        "If covariance is positive, it means as advertising spend increases, daily sales tend to increase as well (and vice versa).\n",
        "\n",
        "If covariance is negative, they move in opposite directions.\n",
        "\n",
        "However, covariance doesn’t tell us how strong the relationship is because its value depends on the units of measurement.\n",
        "\n",
        "Correlation coefficient measures both the strength and direction of the linear relationship between two variables.\n",
        "\n",
        "It ranges from -1 to 1.\n",
        "\n",
        "A value close to 1 means a strong positive relationship, close to -1 means a strong negative relationship, and around 0 means no linear relationship.\n",
        "\n",
        "Correlation is normalized and easier to interpret compared to covariance."
      ],
      "metadata": {
        "id": "LVud0Zh5xGIU"
      }
    },
    {
      "cell_type": "code",
      "source": [
        "import numpy as np\n",
        "\n",
        "advertising_spend = [200, 250, 300, 400, 500]\n",
        "daily_sales = [2200, 2450, 2750, 3200, 4000]\n",
        "\n",
        "# Calculate covariance matrix and extract covariance\n",
        "cov_matrix = np.cov(advertising_spend, daily_sales)\n",
        "covariance = cov_matrix[0, 1]\n",
        "\n",
        "# Calculate correlation coefficient matrix and extract correlation\n",
        "corr_matrix = np.corrcoef(advertising_spend, daily_sales)\n",
        "correlation = corr_matrix[0, 1]\n",
        "\n",
        "print(f\"Covariance: {covariance}\")\n",
        "print(f\"Correlation Coefficient: {correlation}\")\n"
      ],
      "metadata": {
        "colab": {
          "base_uri": "https://localhost:8080/"
        },
        "id": "_nq_1GPFxOJb",
        "outputId": "772ce158-86c0-4c54-a0b4-5b97fa37e245"
      },
      "execution_count": 4,
      "outputs": [
        {
          "output_type": "stream",
          "name": "stdout",
          "text": [
            "Covariance: 84875.0\n",
            "Correlation Coefficient: 0.9935824101653329\n"
          ]
        }
      ]
    },
    {
      "cell_type": "markdown",
      "source": [
        "Your team has collected customer satisfaction survey data on a scale of\n",
        "1-10 and wants to understand its distribution before launching a new product.\n",
        "● Explain which summary statistics and visualizations (e.g. mean, standard\n",
        "deviation, histogram) you’d use.\n",
        "● Write Python code to create a histogram using Matplotlib for the survey data:\n",
        "survey_scores = [7, 8, 5, 9, 6, 7, 8, 9, 10, 4, 7, 6, 9, 8, 7]"
      ],
      "metadata": {
        "id": "n4gOOH2oxSEC"
      }
    },
    {
      "cell_type": "markdown",
      "source": [
        "Mean: To find the average satisfaction score and get an overall sense of customer sentiment.\n",
        "\n",
        "Median: To understand the middle point of the scores, which is useful if the data is skewed.\n",
        "\n",
        "Mode: To identify the most frequently given score.\n",
        "\n",
        "Standard Deviation: To measure how spread out the scores are, indicating variability in satisfaction.\n",
        "\n",
        "Histogram: To visualize the distribution of scores, see where most scores cluster, and identify any gaps or outliers.\n",
        "\n",
        "Boxplot (optional): To summarize the distribution and detect any outliers visually."
      ],
      "metadata": {
        "id": "K7ZieKCRxeEo"
      }
    },
    {
      "cell_type": "code",
      "source": [
        "import matplotlib.pyplot as plt\n",
        "\n",
        "survey_scores = [7, 8, 5, 9, 6, 7, 8, 9, 10, 4, 7, 6, 9, 8, 7]\n",
        "\n",
        "plt.hist(survey_scores, bins=range(4, 12), edgecolor='black', alpha=0.7)\n",
        "plt.title('Customer Satisfaction Survey Scores')\n",
        "plt.xlabel('Score')\n",
        "plt.ylabel('Frequency')\n",
        "plt.xticks(range(4, 11))\n",
        "plt.show()\n"
      ],
      "metadata": {
        "colab": {
          "base_uri": "https://localhost:8080/",
          "height": 472
        },
        "id": "aljNse2-xezS",
        "outputId": "245ef57a-375f-4629-e7d9-6f3164fde681"
      },
      "execution_count": 5,
      "outputs": [
        {
          "output_type": "display_data",
          "data": {
            "text/plain": [
              "<Figure size 640x480 with 1 Axes>"
            ],
            "image/png": "[encoded data removed]"
          },
          "metadata": {}
        }
      ]
    }
  ]
}